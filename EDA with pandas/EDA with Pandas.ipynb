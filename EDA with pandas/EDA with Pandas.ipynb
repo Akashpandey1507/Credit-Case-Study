{
 "cells": [
  {
   "cell_type": "markdown",
   "metadata": {
    "application/vnd.databricks.v1+cell": {
     "cellMetadata": {},
     "inputWidgets": {},
     "nuid": "f8e21edc-1798-4129-ad20-367a261ff978",
     "showTitle": false,
     "title": ""
    }
   },
   "source": [
    "# Credit Loan Case Study using Python "
   ]
  },
  {
   "cell_type": "markdown",
   "metadata": {
    "application/vnd.databricks.v1+cell": {
     "cellMetadata": {},
     "inputWidgets": {},
     "nuid": "1af1486e-7fad-4b6b-9f44-f2b6e2643a34",
     "showTitle": false,
     "title": ""
    }
   },
   "source": [
    "# Introduction\n",
    "This assignment aims to give you an idea of applying EDA in a real business\n",
    "scenario. In this assignment, apart from applying the techniques that you have\n",
    "learnt in the EDA module, you will also develop a basic understanding of risk\n",
    "analytics in banking and financial services and understand how data is used to\n",
    "minimise the risk of losing money while lending to customers."
   ]
  },
  {
   "cell_type": "markdown",
   "metadata": {
    "application/vnd.databricks.v1+cell": {
     "cellMetadata": {},
     "inputWidgets": {},
     "nuid": "e56ace83-9d95-4948-b85f-e3f8736f3228",
     "showTitle": false,
     "title": ""
    }
   },
   "source": [
    "# Business Understanding\n",
    "The loan providing companies find it hard to give loans to the people due to\n",
    "their insufficient or non-existent credit history. Because of that, some\n",
    "consumers use it to their advantage by becoming a defaulter. Suppose you\n",
    "work for a consumer finance company which specialises in lending various\n",
    "types of loans to urban customers. You have to use EDA to analyse the\n",
    "patterns present in the data. This will ensure that the applicants capable of\n",
    "repaying the loan are not rejected.\n"
   ]
  },
  {
   "cell_type": "markdown",
   "metadata": {
    "application/vnd.databricks.v1+cell": {
     "cellMetadata": {},
     "inputWidgets": {},
     "nuid": "74e6e426-3fe6-4781-b638-753ef9d9f1b5",
     "showTitle": false,
     "title": ""
    }
   },
   "source": [
    "When the company receives a loan application, the company has to decide for\n",
    "loan approval based on the applicant’s profile. Two types of risks are\n",
    "associated with the bank’s decision"
   ]
  },
  {
   "cell_type": "markdown",
   "metadata": {
    "application/vnd.databricks.v1+cell": {
     "cellMetadata": {},
     "inputWidgets": {},
     "nuid": "c2479fa8-5263-42f5-b11b-f0dcefd22123",
     "showTitle": false,
     "title": ""
    }
   },
   "source": [
    "# Business Objectives\n",
    "This case study aims to identify patterns which indicate if a client has\n",
    "difficulty paying their instalments which may be used for taking actions such\n",
    "as denying the loan, reducing the amount of loan, lending (to risky applicants)\n",
    "at a higher interest rate, etc. This will ensure that the consumers capable of\n",
    "repaying the loan are not rejected. Identification of such applicants using\n",
    "EDA is the aim of this case study.\n",
    "In other words, the company wants to understand the driving factors (or\n",
    "driver variables) behind loan default, i.e. the variables which are strong\n",
    "indicators of default. The company can utilise this knowledge for its portfolio\n",
    "and risk assessment.\n"
   ]
  },
  {
   "cell_type": "markdown",
   "metadata": {
    "application/vnd.databricks.v1+cell": {
     "cellMetadata": {},
     "inputWidgets": {},
     "nuid": "4021758a-d111-4e6b-8709-28eeac9a05a7",
     "showTitle": false,
     "title": ""
    }
   },
   "source": [
    "To develop your understanding of the domain, you are advised to\n",
    "independently research a little about risk analytics - understanding the types\n",
    "of variables and their significance should be enough."
   ]
  },
  {
   "cell_type": "markdown",
   "metadata": {
    "application/vnd.databricks.v1+cell": {
     "cellMetadata": {},
     "inputWidgets": {},
     "nuid": "7508ec6e-278c-43f6-9b08-be6308926b76",
     "showTitle": false,
     "title": ""
    }
   },
   "source": [
    "# Importing all Liabraries "
   ]
  },
  {
   "cell_type": "code",
   "execution_count": 0,
   "metadata": {
    "application/vnd.databricks.v1+cell": {
     "cellMetadata": {},
     "inputWidgets": {},
     "nuid": "a02957c8-63dc-41f0-9066-0f56eab65f08",
     "showTitle": false,
     "title": ""
    }
   },
   "outputs": [],
   "source": [
    "import pandas as pd\n",
    "import numpy as np\n",
    "import seaborn as sns\n",
    "import matplotlib.pyplot as plt"
   ]
  },
  {
   "cell_type": "markdown",
   "metadata": {
    "application/vnd.databricks.v1+cell": {
     "cellMetadata": {},
     "inputWidgets": {},
     "nuid": "81f3ef6f-4c15-4b90-aec0-da859ad66e5f",
     "showTitle": false,
     "title": ""
    }
   },
   "source": [
    "# To make a readable all columns in datasets"
   ]
  },
  {
   "cell_type": "code",
   "execution_count": 0,
   "metadata": {
    "application/vnd.databricks.v1+cell": {
     "cellMetadata": {},
     "inputWidgets": {},
     "nuid": "5096f9eb-1bd5-4959-b5ab-899045a391a7",
     "showTitle": false,
     "title": ""
    }
   },
   "outputs": [],
   "source": [
    "pd.set_option('display.max_columns', None)\n"
   ]
  },
  {
   "cell_type": "markdown",
   "metadata": {
    "application/vnd.databricks.v1+cell": {
     "cellMetadata": {},
     "inputWidgets": {},
     "nuid": "76d4ef1f-9d15-46ad-bc07-6f854b506de0",
     "showTitle": false,
     "title": ""
    }
   },
   "source": [
    "# Files Path"
   ]
  },
  {
   "cell_type": "code",
   "execution_count": 0,
   "metadata": {
    "application/vnd.databricks.v1+cell": {
     "cellMetadata": {},
     "inputWidgets": {},
     "nuid": "651570f4-54fc-407a-94fc-5f7a5c6da492",
     "showTitle": false,
     "title": ""
    }
   },
   "outputs": [],
   "source": [
    "path = r'E:\\CSV_Files\\Project\\Credit EDA Case Study'"
   ]
  },
  {
   "cell_type": "markdown",
   "metadata": {
    "application/vnd.databricks.v1+cell": {
     "cellMetadata": {},
     "inputWidgets": {},
     "nuid": "4da29202-9564-464d-9a82-784fbf5caefe",
     "showTitle": false,
     "title": ""
    }
   },
   "source": [
    "# Read the Datasets"
   ]
  },
  {
   "cell_type": "code",
   "execution_count": 0,
   "metadata": {
    "application/vnd.databricks.v1+cell": {
     "cellMetadata": {},
     "inputWidgets": {},
     "nuid": "b16c5602-9ea3-4b45-960c-2ac450e7f31f",
     "showTitle": false,
     "title": ""
    }
   },
   "outputs": [],
   "source": [
    "df = pd.read_csv(f'{path}/application_data.csv')"
   ]
  },
  {
   "cell_type": "code",
   "execution_count": 0,
   "metadata": {
    "application/vnd.databricks.v1+cell": {
     "cellMetadata": {},
     "inputWidgets": {},
     "nuid": "4dde186a-c121-401d-9df5-7064df3f9aa9",
     "showTitle": false,
     "title": ""
    }
   },
   "outputs": [],
   "source": [
    "df"
   ]
  },
  {
   "cell_type": "markdown",
   "metadata": {
    "application/vnd.databricks.v1+cell": {
     "cellMetadata": {},
     "inputWidgets": {},
     "nuid": "aba592fe-ad53-46f3-af61-4a10f6a62558",
     "showTitle": false,
     "title": ""
    }
   },
   "source": [
    "# Step 1:   Data Cleaning"
   ]
  },
  {
   "cell_type": "code",
   "execution_count": 0,
   "metadata": {
    "application/vnd.databricks.v1+cell": {
     "cellMetadata": {},
     "inputWidgets": {},
     "nuid": "1c31054e-44d3-4038-b5e2-c3ac45a57833",
     "showTitle": false,
     "title": ""
    }
   },
   "outputs": [],
   "source": [
    "df.shape"
   ]
  },
  {
   "cell_type": "markdown",
   "metadata": {
    "application/vnd.databricks.v1+cell": {
     "cellMetadata": {},
     "inputWidgets": {},
     "nuid": "d324977a-4d2a-43cb-906d-2ba71e8ca90a",
     "showTitle": false,
     "title": ""
    }
   },
   "source": [
    "# Check the Null Value in Columns and delete more than 10% null values"
   ]
  },
  {
   "cell_type": "code",
   "execution_count": 0,
   "metadata": {
    "application/vnd.databricks.v1+cell": {
     "cellMetadata": {},
     "inputWidgets": {},
     "nuid": "9e5dd86e-5d18-429b-aacf-482b8fe71e0d",
     "showTitle": false,
     "title": ""
    }
   },
   "outputs": [],
   "source": [
    "df.isnull().sum()"
   ]
  },
  {
   "cell_type": "code",
   "execution_count": 0,
   "metadata": {
    "application/vnd.databricks.v1+cell": {
     "cellMetadata": {},
     "inputWidgets": {},
     "nuid": "890e4181-0709-4a1c-a064-f938bf6cac35",
     "showTitle": false,
     "title": ""
    }
   },
   "outputs": [],
   "source": [
    "null_col = df.isnull().sum()\n",
    "null_col = null_col.loc[null_col.values > df.shape[0] * 0.1]\n",
    "null_col"
   ]
  },
  {
   "cell_type": "code",
   "execution_count": 0,
   "metadata": {
    "application/vnd.databricks.v1+cell": {
     "cellMetadata": {},
     "inputWidgets": {},
     "nuid": "2367bf6e-d6c2-44ca-97d1-d956237c0465",
     "showTitle": false,
     "title": ""
    }
   },
   "outputs": [],
   "source": [
    "df.drop(columns=null_col.index,inplace=True)"
   ]
  },
  {
   "cell_type": "markdown",
   "metadata": {
    "application/vnd.databricks.v1+cell": {
     "cellMetadata": {},
     "inputWidgets": {},
     "nuid": "54e6ae4d-eb78-46dd-a0ad-e6434f410593",
     "showTitle": false,
     "title": ""
    }
   },
   "source": [
    "# Check the Null Value in rows and delete more than 10% null values"
   ]
  },
  {
   "cell_type": "code",
   "execution_count": 0,
   "metadata": {
    "application/vnd.databricks.v1+cell": {
     "cellMetadata": {},
     "inputWidgets": {},
     "nuid": "a0c9f0d3-6f8c-443a-aa84-9e08877478fc",
     "showTitle": false,
     "title": ""
    }
   },
   "outputs": [],
   "source": [
    "df.dropna(thresh=df.shape[1] - df.shape[1] * 0.1,inplace=True)"
   ]
  },
  {
   "cell_type": "markdown",
   "metadata": {
    "application/vnd.databricks.v1+cell": {
     "cellMetadata": {},
     "inputWidgets": {},
     "nuid": "296b23a4-6528-4af0-a150-a2bd6d03bcc2",
     "showTitle": false,
     "title": ""
    }
   },
   "source": [
    "# Finding the Outlier and delete it"
   ]
  },
  {
   "cell_type": "code",
   "execution_count": 0,
   "metadata": {
    "application/vnd.databricks.v1+cell": {
     "cellMetadata": {},
     "inputWidgets": {},
     "nuid": "96e376f7-ea9a-4cad-97a7-50efb4a9ae4f",
     "showTitle": false,
     "title": ""
    }
   },
   "outputs": [],
   "source": [
    "plt.figure(figsize=(25,10))\n",
    "sns.boxplot(data = df, x='AMT_INCOME_TOTAL')"
   ]
  },
  {
   "cell_type": "code",
   "execution_count": 0,
   "metadata": {
    "application/vnd.databricks.v1+cell": {
     "cellMetadata": {},
     "inputWidgets": {},
     "nuid": "62fbe406-fd8d-40fa-ae71-955930bc1e21",
     "showTitle": false,
     "title": ""
    }
   },
   "outputs": [],
   "source": [
    "df['AMT_INCOME_TOTAL'].min()"
   ]
  },
  {
   "cell_type": "code",
   "execution_count": 0,
   "metadata": {
    "application/vnd.databricks.v1+cell": {
     "cellMetadata": {},
     "inputWidgets": {},
     "nuid": "19c628e7-d792-44c5-a146-23dabc504e8e",
     "showTitle": false,
     "title": ""
    }
   },
   "outputs": [],
   "source": [
    "df['AMT_INCOME_TOTAL'].max()"
   ]
  },
  {
   "cell_type": "markdown",
   "metadata": {
    "application/vnd.databricks.v1+cell": {
     "cellMetadata": {},
     "inputWidgets": {},
     "nuid": "ff2fcf34-7f6b-405d-af37-77c0f74bf863",
     "showTitle": false,
     "title": ""
    }
   },
   "source": [
    "IQR is used to measure variability by dividing a data set into quartiles. The data is sorted in ascending order and split into 4 equal parts. Q1, Q2, Q3 called first, second and third quartiles are the values which separate the 4 equal parts.\n",
    "\n",
    "Q1 represents the 25th percentile of the data.\n",
    "Q2 represents the 50th percentile of the data.\n",
    "Q3 represents the 75th percentile of the data."
   ]
  },
  {
   "cell_type": "code",
   "execution_count": 0,
   "metadata": {
    "application/vnd.databricks.v1+cell": {
     "cellMetadata": {},
     "inputWidgets": {},
     "nuid": "03d48b6d-17d9-4259-88b7-f95196be3f56",
     "showTitle": false,
     "title": ""
    }
   },
   "outputs": [],
   "source": [
    "Q1, Q3 = np.percentile(df['AMT_INCOME_TOTAL'],[25,75])"
   ]
  },
  {
   "cell_type": "code",
   "execution_count": 0,
   "metadata": {
    "application/vnd.databricks.v1+cell": {
     "cellMetadata": {},
     "inputWidgets": {},
     "nuid": "9b8ad163-5816-4a8e-87af-240577cb086a",
     "showTitle": false,
     "title": ""
    }
   },
   "outputs": [],
   "source": [
    "Q1"
   ]
  },
  {
   "cell_type": "code",
   "execution_count": 0,
   "metadata": {
    "application/vnd.databricks.v1+cell": {
     "cellMetadata": {},
     "inputWidgets": {},
     "nuid": "ebae81ac-c589-4dba-8247-7e74c96d9d5f",
     "showTitle": false,
     "title": ""
    }
   },
   "outputs": [],
   "source": [
    "Q3"
   ]
  },
  {
   "cell_type": "markdown",
   "metadata": {
    "application/vnd.databricks.v1+cell": {
     "cellMetadata": {},
     "inputWidgets": {},
     "nuid": "b8b54dc7-f617-4165-a869-c87636bf76a7",
     "showTitle": false,
     "title": ""
    }
   },
   "source": [
    "IQR is the range between the first and the third quartiles namely Q1 and Q3: IQR = Q3 – Q1. The data points which fall below Q1 – 1.5 IQR or above Q3 + 1.5 IQR are outliers."
   ]
  },
  {
   "cell_type": "code",
   "execution_count": 0,
   "metadata": {
    "application/vnd.databricks.v1+cell": {
     "cellMetadata": {},
     "inputWidgets": {},
     "nuid": "cfe1f9e7-1e49-48bb-8d57-f27a8dfa48bf",
     "showTitle": false,
     "title": ""
    }
   },
   "outputs": [],
   "source": [
    "IQR = Q3 - Q1"
   ]
  },
  {
   "cell_type": "code",
   "execution_count": 0,
   "metadata": {
    "application/vnd.databricks.v1+cell": {
     "cellMetadata": {},
     "inputWidgets": {},
     "nuid": "2ba419f9-c87e-4eaf-a6d4-31be15eebc14",
     "showTitle": false,
     "title": ""
    }
   },
   "outputs": [],
   "source": [
    "IQR"
   ]
  },
  {
   "cell_type": "code",
   "execution_count": 0,
   "metadata": {
    "application/vnd.databricks.v1+cell": {
     "cellMetadata": {},
     "inputWidgets": {},
     "nuid": "23b05213-a9e2-43d9-9965-2505532be4d4",
     "showTitle": false,
     "title": ""
    }
   },
   "outputs": [],
   "source": [
    "lower_x = Q1 - 1.5 * IQR\n",
    "Upper_x = Q3 + 1.5 * IQR"
   ]
  },
  {
   "cell_type": "code",
   "execution_count": 0,
   "metadata": {
    "application/vnd.databricks.v1+cell": {
     "cellMetadata": {},
     "inputWidgets": {},
     "nuid": "94c71aa2-99eb-496e-aec5-df1e68639f5d",
     "showTitle": false,
     "title": ""
    }
   },
   "outputs": [],
   "source": [
    "lower_x"
   ]
  },
  {
   "cell_type": "code",
   "execution_count": 0,
   "metadata": {
    "application/vnd.databricks.v1+cell": {
     "cellMetadata": {},
     "inputWidgets": {},
     "nuid": "c3d4334b-ad86-46de-a206-d097952b03a6",
     "showTitle": false,
     "title": ""
    }
   },
   "outputs": [],
   "source": [
    "Upper_x"
   ]
  },
  {
   "cell_type": "code",
   "execution_count": 0,
   "metadata": {
    "application/vnd.databricks.v1+cell": {
     "cellMetadata": {},
     "inputWidgets": {},
     "nuid": "9f0bfc68-bbfa-4475-815f-f87569d055bd",
     "showTitle": false,
     "title": ""
    }
   },
   "outputs": [],
   "source": [
    "df = df.loc[df['AMT_INCOME_TOTAL'] < Upper_x]"
   ]
  },
  {
   "cell_type": "code",
   "execution_count": 0,
   "metadata": {
    "application/vnd.databricks.v1+cell": {
     "cellMetadata": {},
     "inputWidgets": {},
     "nuid": "4403a072-035b-433e-804c-46f17f61d586",
     "showTitle": false,
     "title": ""
    }
   },
   "outputs": [],
   "source": [
    "plt.figure(figsize=(25,10))\n",
    "sns.boxplot(data = df, x='AMT_INCOME_TOTAL')"
   ]
  },
  {
   "cell_type": "code",
   "execution_count": 0,
   "metadata": {
    "application/vnd.databricks.v1+cell": {
     "cellMetadata": {},
     "inputWidgets": {},
     "nuid": "4f36b0d1-375c-4490-bfa4-cf34d9c6ffbd",
     "showTitle": false,
     "title": ""
    }
   },
   "outputs": [],
   "source": [
    "df['AMT_INCOME_TOTAL'].min()"
   ]
  },
  {
   "cell_type": "code",
   "execution_count": 0,
   "metadata": {
    "application/vnd.databricks.v1+cell": {
     "cellMetadata": {},
     "inputWidgets": {},
     "nuid": "9ecd0964-d8e9-4299-ae74-a1f1173d69a5",
     "showTitle": false,
     "title": ""
    }
   },
   "outputs": [],
   "source": [
    "df['AMT_INCOME_TOTAL'].max()"
   ]
  },
  {
   "cell_type": "markdown",
   "metadata": {
    "application/vnd.databricks.v1+cell": {
     "cellMetadata": {},
     "inputWidgets": {},
     "nuid": "a134861f-747f-4df4-bf15-81786f3507e4",
     "showTitle": false,
     "title": ""
    }
   },
   "source": [
    "# Dealing with \"XNA\" in Code Gender Columns"
   ]
  },
  {
   "cell_type": "code",
   "execution_count": 0,
   "metadata": {
    "application/vnd.databricks.v1+cell": {
     "cellMetadata": {},
     "inputWidgets": {},
     "nuid": "906947bc-ea3c-42b4-a69c-121e0472804b",
     "showTitle": false,
     "title": ""
    }
   },
   "outputs": [],
   "source": [
    "df['CODE_GENDER'].value_counts()"
   ]
  },
  {
   "cell_type": "code",
   "execution_count": 0,
   "metadata": {
    "application/vnd.databricks.v1+cell": {
     "cellMetadata": {},
     "inputWidgets": {},
     "nuid": "d259cdc7-d1fb-4504-a6b9-99b0ece1a8db",
     "showTitle": false,
     "title": ""
    }
   },
   "outputs": [],
   "source": [
    "df['CODE_GENDER'] = df['CODE_GENDER'].str.replace('XNA','F')"
   ]
  },
  {
   "cell_type": "code",
   "execution_count": 0,
   "metadata": {
    "application/vnd.databricks.v1+cell": {
     "cellMetadata": {},
     "inputWidgets": {},
     "nuid": "8f1942bc-845c-489f-9ab3-f9e0ac97fc55",
     "showTitle": false,
     "title": ""
    }
   },
   "outputs": [],
   "source": [
    "df['CODE_GENDER'].value_counts()"
   ]
  },
  {
   "cell_type": "markdown",
   "metadata": {
    "application/vnd.databricks.v1+cell": {
     "cellMetadata": {},
     "inputWidgets": {},
     "nuid": "4d676cae-2cbd-4f14-a999-9f45c2e5520f",
     "showTitle": false,
     "title": ""
    }
   },
   "source": [
    "# Dealing with \"XNA\" in Organisation type Columns"
   ]
  },
  {
   "cell_type": "code",
   "execution_count": 0,
   "metadata": {
    "application/vnd.databricks.v1+cell": {
     "cellMetadata": {},
     "inputWidgets": {},
     "nuid": "1f431858-56ae-430e-8ec3-0772144412f2",
     "showTitle": false,
     "title": ""
    }
   },
   "outputs": [],
   "source": [
    "df['ORGANIZATION_TYPE'].value_counts()"
   ]
  },
  {
   "cell_type": "code",
   "execution_count": 0,
   "metadata": {
    "application/vnd.databricks.v1+cell": {
     "cellMetadata": {},
     "inputWidgets": {},
     "nuid": "2cdf018c-787a-492f-bff7-8848d3d88dc2",
     "showTitle": false,
     "title": ""
    }
   },
   "outputs": [],
   "source": [
    "df = df.loc[df['ORGANIZATION_TYPE'] != 'XNA' ]"
   ]
  },
  {
   "cell_type": "code",
   "execution_count": 0,
   "metadata": {
    "application/vnd.databricks.v1+cell": {
     "cellMetadata": {},
     "inputWidgets": {},
     "nuid": "3a87fd5b-4a6e-4c10-a8f5-549c14103239",
     "showTitle": false,
     "title": ""
    }
   },
   "outputs": [],
   "source": [
    "df['ORGANIZATION_TYPE'].value_counts()"
   ]
  },
  {
   "cell_type": "markdown",
   "metadata": {
    "application/vnd.databricks.v1+cell": {
     "cellMetadata": {},
     "inputWidgets": {},
     "nuid": "d528cd22-2b1a-474e-8df9-ca2b0527230d",
     "showTitle": false,
     "title": ""
    }
   },
   "source": []
  },
  {
   "cell_type": "code",
   "execution_count": 0,
   "metadata": {
    "application/vnd.databricks.v1+cell": {
     "cellMetadata": {},
     "inputWidgets": {},
     "nuid": "a9694b7e-dc4b-4ff9-981e-300fec0a6a06",
     "showTitle": false,
     "title": ""
    }
   },
   "outputs": [],
   "source": [
    "df"
   ]
  },
  {
   "cell_type": "markdown",
   "metadata": {
    "application/vnd.databricks.v1+cell": {
     "cellMetadata": {},
     "inputWidgets": {},
     "nuid": "761cdff5-4459-4594-9889-e502335e25d4",
     "showTitle": false,
     "title": ""
    }
   },
   "source": [
    "# EDA Data Analysis Analysis"
   ]
  },
  {
   "cell_type": "markdown",
   "metadata": {
    "application/vnd.databricks.v1+cell": {
     "cellMetadata": {},
     "inputWidgets": {},
     "nuid": "41df18b1-c9a2-44c2-8a0a-aecb1d3bb867",
     "showTitle": false,
     "title": ""
    }
   },
   "source": [
    "# Filter the Data for;\n",
    "* 0 means who make payment as on time\n",
    "* 1 mean that who is defaulter"
   ]
  },
  {
   "cell_type": "code",
   "execution_count": 0,
   "metadata": {
    "application/vnd.databricks.v1+cell": {
     "cellMetadata": {},
     "inputWidgets": {},
     "nuid": "2a226ead-95c6-45de-8853-8a8a07b11d22",
     "showTitle": false,
     "title": ""
    }
   },
   "outputs": [],
   "source": [
    "df0 = df.loc[df['TARGET'] == 0 ]\n",
    "df1 = df.loc[df['TARGET'] == 1 ]"
   ]
  },
  {
   "cell_type": "code",
   "execution_count": 0,
   "metadata": {
    "application/vnd.databricks.v1+cell": {
     "cellMetadata": {},
     "inputWidgets": {},
     "nuid": "b1412faa-8df3-4123-9341-50853ade661b",
     "showTitle": false,
     "title": ""
    }
   },
   "outputs": [],
   "source": [
    "df0"
   ]
  },
  {
   "cell_type": "code",
   "execution_count": 0,
   "metadata": {
    "application/vnd.databricks.v1+cell": {
     "cellMetadata": {},
     "inputWidgets": {},
     "nuid": "ff620e22-bd65-4b6f-b66b-18e16e38f8cc",
     "showTitle": false,
     "title": ""
    }
   },
   "outputs": [],
   "source": [
    "df1"
   ]
  },
  {
   "cell_type": "markdown",
   "metadata": {
    "application/vnd.databricks.v1+cell": {
     "cellMetadata": {},
     "inputWidgets": {},
     "nuid": "d0c76dd9-a513-4d40-bbf7-99eba14cd965",
     "showTitle": false,
     "title": ""
    }
   },
   "source": [
    "# Exporting the Cleaned Data in CSV Formate"
   ]
  },
  {
   "cell_type": "code",
   "execution_count": 0,
   "metadata": {
    "application/vnd.databricks.v1+cell": {
     "cellMetadata": {},
     "inputWidgets": {},
     "nuid": "6b797047-1faa-42b8-a04e-84183f452555",
     "showTitle": false,
     "title": ""
    }
   },
   "outputs": [],
   "source": [
    "df.to_csv(r'E:\\CSV_Files\\Project\\Credit EDA Case Study\\CleaningData.csv')"
   ]
  },
  {
   "cell_type": "markdown",
   "metadata": {
    "application/vnd.databricks.v1+cell": {
     "cellMetadata": {},
     "inputWidgets": {},
     "nuid": "4871fc2a-a5c4-44ec-9c31-976eba8ef83f",
     "showTitle": false,
     "title": ""
    }
   },
   "source": [
    "* Target Analysis"
   ]
  },
  {
   "cell_type": "code",
   "execution_count": 0,
   "metadata": {
    "application/vnd.databricks.v1+cell": {
     "cellMetadata": {},
     "inputWidgets": {},
     "nuid": "f30ab5aa-de0d-4614-beae-f375b84c29fb",
     "showTitle": false,
     "title": ""
    }
   },
   "outputs": [],
   "source": [
    "plt.figure(figsize=(25,10))\n",
    "plt.title('Defaulter VS Non-Defaulter',fontsize= 25)\n",
    "plt.xlabel('Targets',fontsize= 15)\n",
    "plt.ylabel('Count',fontsize= 15)\n",
    "sns.countplot(data= df,x='TARGET')"
   ]
  },
  {
   "cell_type": "markdown",
   "metadata": {
    "application/vnd.databricks.v1+cell": {
     "cellMetadata": {},
     "inputWidgets": {},
     "nuid": "cf064cb0-59c6-47ed-af1e-15059ffaa3d5",
     "showTitle": false,
     "title": ""
    }
   },
   "source": [
    "* Gender for Non- Defaulter VS Defaulter"
   ]
  },
  {
   "cell_type": "code",
   "execution_count": 0,
   "metadata": {
    "application/vnd.databricks.v1+cell": {
     "cellMetadata": {},
     "inputWidgets": {},
     "nuid": "b7707e1d-c4d4-4483-82f6-0370bc894bf9",
     "showTitle": false,
     "title": ""
    }
   },
   "outputs": [],
   "source": [
    "fig, (ax1, ax2) = plt.subplots(1, 2, figsize=(25, 10))\n",
    "sns.countplot(data=df0,x='CODE_GENDER',ax=ax1)\n",
    "sns.countplot(data=df1,x='CODE_GENDER',ax=ax2)\n",
    "ax1.set_title('Gender for Non-Defaulter (0)',fontsize=25,fontweight='bold')\n",
    "ax2.set_title('Gender for Defaulter (1)',fontsize=25,fontweight='bold')\n",
    "ax1.set_xlabel('Gender',fontsize=15,fontweight='bold')\n",
    "ax1.set_ylabel('Counts',fontsize=15,fontweight='bold')\n",
    "ax2.set_xlabel('Gender',fontsize=15,fontweight='bold')\n",
    "ax2.set_ylabel('Counts',fontsize=15,fontweight='bold')\n",
    "ax1.grid(True)  # Enable grid lines\n",
    "ax2.grid(True)  # Enable grid lines\n",
    "\n",
    "plt.tight_layout()"
   ]
  },
  {
   "cell_type": "markdown",
   "metadata": {
    "application/vnd.databricks.v1+cell": {
     "cellMetadata": {},
     "inputWidgets": {},
     "nuid": "e90b5c3e-1400-43df-a85f-f6de4dcf6331",
     "showTitle": false,
     "title": ""
    }
   },
   "source": [
    "# Distribution of Income for Non- Defaulter and Defaulter"
   ]
  },
  {
   "cell_type": "code",
   "execution_count": 0,
   "metadata": {
    "application/vnd.databricks.v1+cell": {
     "cellMetadata": {},
     "inputWidgets": {},
     "nuid": "7172791a-6745-4152-b54a-305eace28837",
     "showTitle": false,
     "title": ""
    }
   },
   "outputs": [],
   "source": [
    "fig, (ax1, ax2) = plt.subplots(1, 2, figsize=(25, 10))\n",
    "ax1.hist(df0['AMT_INCOME_TOTAL'])\n",
    "ax2.hist(df1['AMT_INCOME_TOTAL'])\n",
    "ax1.set_title('Distribution of Total Income for Non- Defaulter',fontsize=25,fontweight='bold')\n",
    "ax2.set_title('Distribution of Total Income for Defaulter',fontsize=25,fontweight='bold')\n",
    "ax1.set_xlabel('Total Income',fontsize=15,fontweight='bold')\n",
    "ax1.set_ylabel('Counts',fontsize=15,fontweight='bold')\n",
    "ax2.set_xlabel('Total Income',fontsize=15,fontweight='bold')\n",
    "ax2.set_ylabel('Counts',fontsize=15,fontweight='bold')\n",
    "\n",
    "plt.tight_layout()\n"
   ]
  },
  {
   "cell_type": "markdown",
   "metadata": {
    "application/vnd.databricks.v1+cell": {
     "cellMetadata": {},
     "inputWidgets": {},
     "nuid": "af24f63d-8cc9-4df7-8bea-9c4373fa40a2",
     "showTitle": false,
     "title": ""
    }
   },
   "source": [
    "# Loan Contract type for Non - Defauletr and Defaulter"
   ]
  },
  {
   "cell_type": "code",
   "execution_count": 0,
   "metadata": {
    "application/vnd.databricks.v1+cell": {
     "cellMetadata": {},
     "inputWidgets": {},
     "nuid": "a512731a-2ce4-45c1-b673-f3800d8d3b87",
     "showTitle": false,
     "title": ""
    }
   },
   "outputs": [],
   "source": [
    "fig, (ax1, ax2) = plt.subplots(1, 2, figsize=(25, 10))\n",
    "sns.countplot(data=df0,x='NAME_CONTRACT_TYPE',ax=ax1)\n",
    "sns.countplot(data=df1,x='NAME_CONTRACT_TYPE',ax=ax2)\n",
    "ax1.set_title('Loan Contract Types',fontsize=25,fontweight='bold')\n",
    "ax2.set_title('Loan Contract Types',fontsize=25,fontweight='bold')\n",
    "ax1.set_xlabel('Name Contract Types',fontsize=15,fontweight='bold')\n",
    "ax1.set_ylabel('Counts',fontsize=15,fontweight='bold')\n",
    "ax2.set_xlabel('Name Contract Types',fontsize=15,fontweight='bold')\n",
    "ax2.set_ylabel('Counts',fontsize=15,fontweight='bold')\n",
    "ax1.grid(True)  # Enable grid lines\n",
    "ax2.grid(True)  # Enable grid lines\n",
    "\n",
    "plt.tight_layout()"
   ]
  },
  {
   "cell_type": "markdown",
   "metadata": {
    "application/vnd.databricks.v1+cell": {
     "cellMetadata": {},
     "inputWidgets": {},
     "nuid": "63947d1b-387d-4745-a5df-758fcc197675",
     "showTitle": false,
     "title": ""
    }
   },
   "source": [
    "# Gender Wise Income for Non-Defaulter VS Defaulter"
   ]
  },
  {
   "cell_type": "code",
   "execution_count": 0,
   "metadata": {
    "application/vnd.databricks.v1+cell": {
     "cellMetadata": {},
     "inputWidgets": {},
     "nuid": "2cc0ba85-17d9-4921-bfd9-2e6a123b50c7",
     "showTitle": false,
     "title": ""
    }
   },
   "outputs": [],
   "source": [
    "fig, (ax1, ax2) = plt.subplots(1, 2, figsize=(25, 10))\n",
    "sns.barplot(data=df0,x='CODE_GENDER',y='AMT_INCOME_TOTAL',ax=ax1)\n",
    "sns.barplot(data=df1,x='CODE_GENDER',y='AMT_INCOME_TOTAL',ax=ax2)\n",
    "ax1.set_title('Gender wise Income for Non-Defaulter',fontsize=25,fontweight='bold')\n",
    "ax2.set_title('Gender wise Income for Defaulter',fontsize=25,fontweight='bold')\n",
    "ax1.set_xlabel('Gender',fontsize=15,fontweight='bold')\n",
    "ax1.set_ylabel('Income',fontsize=15,fontweight='bold')\n",
    "ax2.set_xlabel('Gender',fontsize=15,fontweight='bold')\n",
    "ax2.set_ylabel('Income',fontsize=15,fontweight='bold')\n",
    "ax1.grid(True)  # Enable grid lines\n",
    "ax2.grid(True)  # Enable grid lines\n",
    "\n",
    "plt.tight_layout()"
   ]
  },
  {
   "cell_type": "markdown",
   "metadata": {
    "application/vnd.databricks.v1+cell": {
     "cellMetadata": {},
     "inputWidgets": {},
     "nuid": "f3b0727a-9fb0-4752-b8c4-9fe7ca250274",
     "showTitle": false,
     "title": ""
    }
   },
   "source": [
    "# Organisation Type for Non-Defaulter VS Defaulter"
   ]
  },
  {
   "cell_type": "code",
   "execution_count": 0,
   "metadata": {
    "application/vnd.databricks.v1+cell": {
     "cellMetadata": {},
     "inputWidgets": {},
     "nuid": "b90fb317-2e29-4aae-b832-8de71eb2a40f",
     "showTitle": false,
     "title": ""
    }
   },
   "outputs": [],
   "source": [
    "fig, (ax1, ax2) = plt.subplots(1, 2, figsize=(25, 20))\n",
    "sns.countplot(data=df0,y='ORGANIZATION_TYPE',ax=ax1)\n",
    "sns.countplot(data=df1,y='ORGANIZATION_TYPE',ax=ax2)\n",
    "ax1.set_title('Organisation Types for Non-Defaulter (0)',fontsize=25,fontweight='bold')\n",
    "ax2.set_title('Organisation Types for Defaulter (1)',fontsize=25,fontweight='bold')\n",
    "ax1.set_xlabel('Counts',fontsize=15,fontweight='bold')\n",
    "ax1.set_ylabel('ORGANIZATION_TYPE',fontsize=15,fontweight='bold')\n",
    "ax2.set_xlabel('Counts',fontsize=15,fontweight='bold')\n",
    "ax2.set_ylabel('ORGANIZATION_TYPE',fontsize=15,fontweight='bold')\n",
    "\n",
    "\n",
    "plt.tight_layout()"
   ]
  },
  {
   "cell_type": "code",
   "execution_count": 0,
   "metadata": {
    "application/vnd.databricks.v1+cell": {
     "cellMetadata": {},
     "inputWidgets": {},
     "nuid": "e9e93f41-9e77-4485-be7b-4e852967d818",
     "showTitle": false,
     "title": ""
    }
   },
   "outputs": [],
   "source": [
    "df['AMT_CREDIT'].min()"
   ]
  },
  {
   "cell_type": "code",
   "execution_count": 0,
   "metadata": {
    "application/vnd.databricks.v1+cell": {
     "cellMetadata": {},
     "inputWidgets": {},
     "nuid": "e8f9b39b-a0d0-4892-885b-bf9c64c4ce1d",
     "showTitle": false,
     "title": ""
    }
   },
   "outputs": [],
   "source": [
    "df['AMT_CREDIT'].max()"
   ]
  },
  {
   "cell_type": "markdown",
   "metadata": {
    "application/vnd.databricks.v1+cell": {
     "cellMetadata": {},
     "inputWidgets": {},
     "nuid": "04112870-1495-4a54-878a-0a4467e38c9f",
     "showTitle": false,
     "title": ""
    }
   },
   "source": [
    "# Distribution of Credit Amount for Non-Defaulter VS Defaulter"
   ]
  },
  {
   "cell_type": "code",
   "execution_count": 0,
   "metadata": {
    "application/vnd.databricks.v1+cell": {
     "cellMetadata": {},
     "inputWidgets": {},
     "nuid": "ed5511dc-0aa9-421d-b7c8-755e1fef31b1",
     "showTitle": false,
     "title": ""
    }
   },
   "outputs": [],
   "source": []
  },
  {
   "cell_type": "code",
   "execution_count": 0,
   "metadata": {
    "application/vnd.databricks.v1+cell": {
     "cellMetadata": {},
     "inputWidgets": {},
     "nuid": "bc0b28f7-0dd5-4592-8643-dfaab90a2c0e",
     "showTitle": false,
     "title": ""
    }
   },
   "outputs": [],
   "source": [
    "fig, (ax1, ax2) = plt.subplots(1, 2, figsize=(25, 10))\n",
    "ax1.hist(df0['AMT_CREDIT'])\n",
    "ax2.hist(df1['AMT_CREDIT'])\n",
    "ax1.set_title('Distribution of Credit Amount for Non- Defaulter',fontsize=25,fontweight='bold')\n",
    "ax2.set_title('Distribution of Credit Amount for Defaulter',fontsize=25,fontweight='bold')\n",
    "ax1.set_xlabel('Range of Credit Amount in Lakh',fontsize=15,fontweight='bold')\n",
    "ax1.set_ylabel('Counts',fontsize=15,fontweight='bold')\n",
    "ax2.set_xlabel('Range of Credit Amount in Lakh',fontsize=15,fontweight='bold')\n",
    "ax2.set_ylabel('Counts',fontsize=15,fontweight='bold')\n",
    "\n",
    "\n",
    "plt.tight_layout()\n",
    "plt.show()\n"
   ]
  },
  {
   "cell_type": "markdown",
   "metadata": {
    "application/vnd.databricks.v1+cell": {
     "cellMetadata": {},
     "inputWidgets": {},
     "nuid": "5b8b2939-9ddb-4809-a9d3-c845c41b2ead",
     "showTitle": false,
     "title": ""
    }
   },
   "source": [
    "# # Gender Wise Credit Amount for Non-Defaulter VS Defaulter"
   ]
  },
  {
   "cell_type": "code",
   "execution_count": 0,
   "metadata": {
    "application/vnd.databricks.v1+cell": {
     "cellMetadata": {},
     "inputWidgets": {},
     "nuid": "9a96acf5-9b97-4bc4-bad2-338490384ced",
     "showTitle": false,
     "title": ""
    }
   },
   "outputs": [],
   "source": [
    "fig, (ax1, ax2) = plt.subplots(1, 2, figsize=(25, 10))\n",
    "sns.barplot(data=df0,x='CODE_GENDER',y='AMT_CREDIT',ax=ax1)\n",
    "sns.barplot(data=df1,x='CODE_GENDER',y='AMT_CREDIT',ax=ax2)\n",
    "ax1.set_title('Gender wise Credit Amount for Non-Defaulter',fontsize=25,fontweight='bold')\n",
    "ax2.set_title('Gender wise Credit Amount for Defaulter',fontsize=25,fontweight='bold')\n",
    "ax1.set_xlabel('Gender',fontsize=15,fontweight='bold')\n",
    "ax1.set_ylabel('Credit Amount',fontsize=15,fontweight='bold')\n",
    "ax2.set_xlabel('Gender',fontsize=15,fontweight='bold')\n",
    "ax2.set_ylabel('Credit Amount',fontsize=15,fontweight='bold')\n",
    "\n",
    "\n",
    "plt.tight_layout()"
   ]
  },
  {
   "cell_type": "markdown",
   "metadata": {
    "application/vnd.databricks.v1+cell": {
     "cellMetadata": {},
     "inputWidgets": {},
     "nuid": "882179eb-b140-492c-bf94-e44f3afc7170",
     "showTitle": false,
     "title": ""
    }
   },
   "source": [
    "# # Gender Wise Education Type for Non-Defaulter VS Defaulter"
   ]
  },
  {
   "cell_type": "code",
   "execution_count": 0,
   "metadata": {
    "application/vnd.databricks.v1+cell": {
     "cellMetadata": {},
     "inputWidgets": {},
     "nuid": "9bd35192-c7fb-42f7-b4d6-38ef7d832fcc",
     "showTitle": false,
     "title": ""
    }
   },
   "outputs": [],
   "source": [
    "fig, (ax1, ax2) = plt.subplots(1, 2, figsize=(25, 10))\n",
    "sns.countplot(data=df0,x='NAME_EDUCATION_TYPE',ax=ax1)\n",
    "sns.countplot(data=df1,x='NAME_EDUCATION_TYPE',ax=ax2)\n",
    "ax1.set_title('Gender wise Education Type for Non-Defaulter',fontsize=25,fontweight='bold')\n",
    "ax2.set_title('Gender wise Education Type for Defaulter',fontsize=25,fontweight='bold')\n",
    "ax1.set_xlabel('Education Types',fontsize=15,fontweight='bold')\n",
    "ax1.set_ylabel('Counts',fontsize=15,fontweight='bold')\n",
    "ax2.set_xlabel('Education Types',fontsize=15,fontweight='bold')\n",
    "ax2.set_ylabel('Counts',fontsize=15,fontweight='bold')\n",
    "\n",
    "\n",
    "plt.tight_layout()"
   ]
  },
  {
   "cell_type": "markdown",
   "metadata": {
    "application/vnd.databricks.v1+cell": {
     "cellMetadata": {},
     "inputWidgets": {},
     "nuid": "4a0f7a55-256b-43b5-9d64-723aca3e8871",
     "showTitle": false,
     "title": ""
    }
   },
   "source": [
    "# Family Status for Non-Defaulter VS Defaulter"
   ]
  },
  {
   "cell_type": "code",
   "execution_count": 0,
   "metadata": {
    "application/vnd.databricks.v1+cell": {
     "cellMetadata": {},
     "inputWidgets": {},
     "nuid": "3d08d58b-1fd0-428b-b4a8-d7dd832961a8",
     "showTitle": false,
     "title": ""
    }
   },
   "outputs": [],
   "source": [
    "fig, (ax1, ax2) = plt.subplots(1, 2, figsize=(25, 10))\n",
    "sns.countplot(data=df0,x='NAME_FAMILY_STATUS',ax=ax1)\n",
    "sns.countplot(data=df1,x='NAME_FAMILY_STATUS',ax=ax2)\n",
    "ax1.set_title('Distribution of Name Family Status for pays on time',fontsize=25,fontweight='bold')\n",
    "ax2.set_title('Distribution of Name Family Status for Defaults',fontsize=25,fontweight='bold')\n",
    "ax1.set_xlabel('Name Family Status',fontsize=15,fontweight='bold')\n",
    "ax1.set_ylabel('Counts',fontsize=15,fontweight='bold')\n",
    "ax2.set_xlabel('Name Family Status',fontsize=15,fontweight='bold')\n",
    "ax2.set_ylabel('Counts',fontsize=15,fontweight='bold')\n",
    "\n",
    "\n",
    "plt.tight_layout()"
   ]
  },
  {
   "cell_type": "markdown",
   "metadata": {
    "application/vnd.databricks.v1+cell": {
     "cellMetadata": {},
     "inputWidgets": {},
     "nuid": "f060a059-10ce-4215-854b-7b67a1e35b63",
     "showTitle": false,
     "title": ""
    }
   },
   "source": [
    "# Name Housing Type for Non-Defaulter VS Defaulter"
   ]
  },
  {
   "cell_type": "code",
   "execution_count": 0,
   "metadata": {
    "application/vnd.databricks.v1+cell": {
     "cellMetadata": {},
     "inputWidgets": {},
     "nuid": "55e8f8de-ceac-415e-af3d-eaa717155db8",
     "showTitle": false,
     "title": ""
    }
   },
   "outputs": [],
   "source": [
    "fig, (ax1, ax2) = plt.subplots(1, 2, figsize=(25, 10))\n",
    "sns.countplot(data=df0,x='NAME_HOUSING_TYPE',ax=ax1)\n",
    "sns.countplot(data=df1,x='NAME_HOUSING_TYPE',ax=ax2)\n",
    "ax1.set_title('Distribution of Name Housing Type for pays on time',fontsize=25,fontweight='bold')\n",
    "ax2.set_title('Distribution of Name Housing Type for Defaults',fontsize=25,fontweight='bold')\n",
    "ax1.set_xlabel('Name Housing Type',fontsize=15,fontweight='bold')\n",
    "ax1.set_ylabel('Counts',fontsize=15,fontweight='bold')\n",
    "ax2.set_xlabel('Name Housing Type',fontsize=15,fontweight='bold')\n",
    "ax2.set_ylabel('Counts',fontsize=15,fontweight='bold')\n",
    "\n",
    "\n",
    "plt.tight_layout()"
   ]
  },
  {
   "cell_type": "markdown",
   "metadata": {
    "application/vnd.databricks.v1+cell": {
     "cellMetadata": {},
     "inputWidgets": {},
     "nuid": "8fbe1819-6f94-4460-b730-e9bb8db31f13",
     "showTitle": false,
     "title": ""
    }
   },
   "source": [
    "# Distribution for Annuity Amount for Non-Defaulter VS Defaulter"
   ]
  },
  {
   "cell_type": "code",
   "execution_count": 0,
   "metadata": {
    "application/vnd.databricks.v1+cell": {
     "cellMetadata": {},
     "inputWidgets": {},
     "nuid": "4233d6a2-90cb-4b57-b9da-6d203aeb7a90",
     "showTitle": false,
     "title": ""
    }
   },
   "outputs": [],
   "source": [
    "fig, (ax1, ax2) = plt.subplots(1, 2, figsize=(25, 10))\n",
    "ax1.hist(df0['AMT_ANNUITY'])\n",
    "ax2.hist(df1['AMT_ANNUITY'])\n",
    "ax1.set_title('Distribution of Annuity Amount for Non- Defaulter',fontsize=25,fontweight='bold')\n",
    "ax2.set_title('Distribution of Annuity Amount for Defaulter',fontsize=25,fontweight='bold')\n",
    "ax1.set_xlabel('Range of Annuity Amount in Lakh',fontsize=15,fontweight='bold')\n",
    "ax1.set_ylabel('Counts',fontsize=15,fontweight='bold')\n",
    "ax2.set_xlabel('Range of Annuity Amount in Lakh',fontsize=15,fontweight='bold')\n",
    "ax2.set_ylabel('Counts',fontsize=15,fontweight='bold')\n",
    "\n",
    "\n",
    "plt.tight_layout()\n",
    "plt.show()\n"
   ]
  },
  {
   "cell_type": "markdown",
   "metadata": {
    "application/vnd.databricks.v1+cell": {
     "cellMetadata": {},
     "inputWidgets": {},
     "nuid": "1e900069-c245-4ea8-91b8-3de6bcd8f2e6",
     "showTitle": false,
     "title": ""
    }
   },
   "source": [
    "# Clients Who Have Own car status for Non-Defaulter VS Defaulter"
   ]
  },
  {
   "cell_type": "code",
   "execution_count": 0,
   "metadata": {
    "application/vnd.databricks.v1+cell": {
     "cellMetadata": {},
     "inputWidgets": {},
     "nuid": "ff835ffd-3489-4429-b6d1-d28e19343867",
     "showTitle": false,
     "title": ""
    }
   },
   "outputs": [],
   "source": [
    "fig, (ax1, ax2) = plt.subplots(1, 2, figsize=(25, 10))\n",
    "sns.countplot(data=df0,x='FLAG_OWN_CAR',ax=ax1)\n",
    "sns.countplot(data=df1,x='FLAG_OWN_CAR',ax=ax2)\n",
    "ax1.set_title('Distribution of Own Car for pays on time',fontsize=25,fontweight='bold')\n",
    "ax2.set_title('Distribution of Own Car for Defaults',fontsize=25,fontweight='bold')\n",
    "ax1.set_xlabel('Own Car Type',fontsize=15,fontweight='bold')\n",
    "ax1.set_ylabel('Counts',fontsize=15,fontweight='bold')\n",
    "ax2.set_xlabel('Own Car Type',fontsize=15,fontweight='bold')\n",
    "ax2.set_ylabel('Counts',fontsize=15,fontweight='bold')\n",
    "\n",
    "\n",
    "plt.tight_layout()"
   ]
  },
  {
   "cell_type": "markdown",
   "metadata": {
    "application/vnd.databricks.v1+cell": {
     "cellMetadata": {},
     "inputWidgets": {},
     "nuid": "49a431c6-6f8d-4942-b228-086e6266d74c",
     "showTitle": false,
     "title": ""
    }
   },
   "source": [
    "# Dustribution of Family member Number for Non-Defaulter VS Defaulter"
   ]
  },
  {
   "cell_type": "code",
   "execution_count": 0,
   "metadata": {
    "application/vnd.databricks.v1+cell": {
     "cellMetadata": {},
     "inputWidgets": {},
     "nuid": "1ab4a69f-6eb7-4d19-b1dc-9ac7cf3a50e7",
     "showTitle": false,
     "title": ""
    }
   },
   "outputs": [],
   "source": [
    "fig, (ax1, ax2) = plt.subplots(1, 2, figsize=(25, 10))\n",
    "sns.countplot(data=df0,x='CNT_FAM_MEMBERS',ax=ax1)\n",
    "sns.countplot(data=df1,x='CNT_FAM_MEMBERS',ax=ax2)\n",
    "ax1.set_title('Distribution of Family Member no for pays on time',fontsize=25,fontweight='bold')\n",
    "ax2.set_title('Distribution of Family Member no for Defaults',fontsize=25,fontweight='bold')\n",
    "ax1.set_xlabel('Family Member no',fontsize=15,fontweight='bold')\n",
    "ax1.set_ylabel('Counts',fontsize=15,fontweight='bold')\n",
    "ax2.set_xlabel('Family Member no',fontsize=15,fontweight='bold')\n",
    "ax2.set_ylabel('Counts',fontsize=15,fontweight='bold')\n",
    "\n",
    "\n",
    "plt.tight_layout()"
   ]
  },
  {
   "cell_type": "markdown",
   "metadata": {
    "application/vnd.databricks.v1+cell": {
     "cellMetadata": {},
     "inputWidgets": {},
     "nuid": "4fc12b12-c63a-4d08-a79e-f9d2cca5690c",
     "showTitle": false,
     "title": ""
    }
   },
   "source": [
    "# Name Suite Type for Non-Defaulter VS Defaulter"
   ]
  },
  {
   "cell_type": "code",
   "execution_count": 0,
   "metadata": {
    "application/vnd.databricks.v1+cell": {
     "cellMetadata": {},
     "inputWidgets": {},
     "nuid": "dbb60159-2c18-4a5c-b48f-38437a780d28",
     "showTitle": false,
     "title": ""
    }
   },
   "outputs": [],
   "source": [
    "fig, (ax1, ax2) = plt.subplots(1, 2, figsize=(25, 10))\n",
    "sns.countplot(data=df0,x='NAME_TYPE_SUITE',ax=ax1)\n",
    "sns.countplot(data=df1,x='NAME_TYPE_SUITE',ax=ax2)\n",
    "ax1.set_title('Distribution of Name Suite Type no for pays on time',fontsize=25,fontweight='bold')\n",
    "ax2.set_title('Distribution of Name Suite Type no for Defaults',fontsize=25,fontweight='bold')\n",
    "ax1.set_xlabel('Name Suite Type',fontsize=15,fontweight='bold')\n",
    "ax1.set_ylabel('Counts',fontsize=15,fontweight='bold')\n",
    "ax2.set_xlabel('Name Suite Type',fontsize=15,fontweight='bold')\n",
    "ax2.set_ylabel('Counts',fontsize=15,fontweight='bold')\n",
    "\n",
    "\n",
    "plt.tight_layout()"
   ]
  },
  {
   "cell_type": "markdown",
   "metadata": {
    "application/vnd.databricks.v1+cell": {
     "cellMetadata": {},
     "inputWidgets": {},
     "nuid": "1dcb9ec3-aab1-4811-a8ab-62966dd0f375",
     "showTitle": false,
     "title": ""
    }
   },
   "source": [
    "# Marital Status for Non-Defaulter VS Defaulter"
   ]
  },
  {
   "cell_type": "code",
   "execution_count": 0,
   "metadata": {
    "application/vnd.databricks.v1+cell": {
     "cellMetadata": {},
     "inputWidgets": {},
     "nuid": "05a01ca3-d30e-4577-9fe9-0f8a94b72b21",
     "showTitle": false,
     "title": ""
    }
   },
   "outputs": [],
   "source": [
    "fig, (ax1, ax2) = plt.subplots(1, 2, figsize=(25, 10))\n",
    "sns.countplot(data=df0,x='NAME_FAMILY_STATUS',ax=ax1)\n",
    "sns.countplot(data=df1,x='NAME_FAMILY_STATUS',ax=ax2)\n",
    "ax1.set_title('Distribution of Marrital Status no for pays on time',fontsize=25,fontweight='bold')\n",
    "ax2.set_title('Distribution of Marrital Status no for Defaults',fontsize=25,fontweight='bold')\n",
    "ax1.set_xlabel('Marrital Status',fontsize=15,fontweight='bold')\n",
    "ax1.set_ylabel('Counts',fontsize=15,fontweight='bold')\n",
    "ax2.set_xlabel('Marrital Status',fontsize=15,fontweight='bold')\n",
    "ax2.set_ylabel('Counts',fontsize=15,fontweight='bold')\n",
    "\n",
    "\n",
    "plt.tight_layout()"
   ]
  },
  {
   "cell_type": "markdown",
   "metadata": {
    "application/vnd.databricks.v1+cell": {
     "cellMetadata": {},
     "inputWidgets": {},
     "nuid": "5e2dc27e-315a-468a-8c52-49c6d6432fd5",
     "showTitle": false,
     "title": ""
    }
   },
   "source": [
    "# Clients Own Housing Status"
   ]
  },
  {
   "cell_type": "code",
   "execution_count": 0,
   "metadata": {
    "application/vnd.databricks.v1+cell": {
     "cellMetadata": {},
     "inputWidgets": {},
     "nuid": "03155ad5-4af8-4ce8-a9a8-25cc161b4b9b",
     "showTitle": false,
     "title": ""
    }
   },
   "outputs": [],
   "source": [
    "fig, (ax1, ax2) = plt.subplots(1, 2, figsize=(25, 10))\n",
    "sns.countplot(data=df0,x='FLAG_OWN_REALTY',ax=ax1)\n",
    "sns.countplot(data=df1,x='FLAG_OWN_REALTY',ax=ax2)\n",
    "ax1.set_title('Distribution of Client Own Realty for pays on time',fontsize=25,fontweight='bold')\n",
    "ax2.set_title('Distribution of Client Own Realty for Defaults',fontsize=25,fontweight='bold')\n",
    "ax1.set_xlabel('Client Own Realty',fontsize=15,fontweight='bold')\n",
    "ax1.set_ylabel('Counts',fontsize=15,fontweight='bold')\n",
    "ax2.set_xlabel('Client Own Realty',fontsize=15,fontweight='bold')\n",
    "ax2.set_ylabel('Counts',fontsize=15,fontweight='bold')\n",
    "\n",
    "\n",
    "plt.tight_layout()"
   ]
  },
  {
   "cell_type": "markdown",
   "metadata": {
    "application/vnd.databricks.v1+cell": {
     "cellMetadata": {},
     "inputWidgets": {},
     "nuid": "c60a469c-c9ee-44ff-ba66-3afda6049c05",
     "showTitle": false,
     "title": ""
    }
   },
   "source": [
    "# Number of Child "
   ]
  },
  {
   "cell_type": "code",
   "execution_count": 0,
   "metadata": {
    "application/vnd.databricks.v1+cell": {
     "cellMetadata": {},
     "inputWidgets": {},
     "nuid": "fe44d3f4-d5cc-45df-939b-90405bf72bf2",
     "showTitle": false,
     "title": ""
    }
   },
   "outputs": [],
   "source": [
    "fig, (ax1, ax2) = plt.subplots(1, 2, figsize=(25, 10))\n",
    "sns.countplot(data=df0,x='CNT_CHILDREN',ax=ax1)\n",
    "sns.countplot(data=df1,x='CNT_CHILDREN',ax=ax2)\n",
    "ax1.set_title('Distribution of Child Number for pays on time',fontsize=25,fontweight='bold')\n",
    "ax2.set_title('Distribution of Child Number for Defaults',fontsize=25,fontweight='bold')\n",
    "ax1.set_xlabel('Child Number',fontsize=15,fontweight='bold')\n",
    "ax1.set_ylabel('Counts',fontsize=15,fontweight='bold')\n",
    "ax2.set_xlabel('Child Number',fontsize=15,fontweight='bold')\n",
    "ax2.set_ylabel('Counts',fontsize=15,fontweight='bold')\n",
    "\n",
    "\n",
    "plt.tight_layout()"
   ]
  },
  {
   "cell_type": "markdown",
   "metadata": {
    "application/vnd.databricks.v1+cell": {
     "cellMetadata": {},
     "inputWidgets": {},
     "nuid": "3c42daa6-fbf9-439e-8fb0-358b06d719c6",
     "showTitle": false,
     "title": ""
    }
   },
   "source": [
    "# Housing Type"
   ]
  },
  {
   "cell_type": "code",
   "execution_count": 0,
   "metadata": {
    "application/vnd.databricks.v1+cell": {
     "cellMetadata": {},
     "inputWidgets": {},
     "nuid": "480e465d-4ca0-4524-bd53-e31cb807766e",
     "showTitle": false,
     "title": ""
    }
   },
   "outputs": [],
   "source": [
    "fig, (ax1, ax2) = plt.subplots(1, 2, figsize=(25, 10))\n",
    "\n",
    "sns.countplot(data=df0,x='NAME_HOUSING_TYPE',ax=ax1)\n",
    "sns.countplot(data=df1,x='NAME_HOUSING_TYPE',ax=ax2)\n",
    "ax1.set_title('Distribution of Housing Type for pays on time',fontsize=25,fontweight='bold')\n",
    "ax2.set_title('Distribution of Housing Type for Defaults',fontsize=25,fontweight='bold')\n",
    "ax1.set_xlabel('Housing Type',fontsize=15,fontweight='bold')\n",
    "ax1.set_ylabel('Counts',fontsize=15,fontweight='bold')\n",
    "ax2.set_xlabel('Housing Type',fontsize=15,fontweight='bold')\n",
    "ax2.set_ylabel('Counts',fontsize=15,fontweight='bold')\n",
    "\n",
    "\n",
    "plt.tight_layout()"
   ]
  },
  {
   "cell_type": "markdown",
   "metadata": {
    "application/vnd.databricks.v1+cell": {
     "cellMetadata": {},
     "inputWidgets": {},
     "nuid": "c375f143-629c-4777-91a0-5111d73be6c0",
     "showTitle": false,
     "title": ""
    }
   },
   "source": []
  }
 ],
 "metadata": {
  "application/vnd.databricks.v1+notebook": {
   "dashboards": [],
   "language": "python",
   "notebookMetadata": {},
   "notebookName": "EDA with Pandas",
   "widgets": {}
  },
  "kernelspec": {
   "display_name": "Python 3",
   "language": "python",
   "name": "python3"
  },
  "language_info": {
   "codemirror_mode": {
    "name": "ipython",
    "version": 3
   },
   "file_extension": ".py",
   "mimetype": "text/x-python",
   "name": "python",
   "nbconvert_exporter": "python",
   "pygments_lexer": "ipython3",
   "version": "3.11.0"
  },
  "orig_nbformat": 4
 },
 "nbformat": 4,
 "nbformat_minor": 0
}
